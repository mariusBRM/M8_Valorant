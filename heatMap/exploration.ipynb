{
 "cells": [
  {
   "cell_type": "code",
   "execution_count": 2,
   "metadata": {},
   "outputs": [
    {
     "name": "stdout",
     "output_type": "stream",
     "text": [
      "Processed file saved as fixed_commands.txt\n"
     ]
    }
   ],
   "source": [
    "def remove_newline_skips(input_file, output_file):\n",
    "    # Open the input file for reading\n",
    "    with open(input_file, 'r') as file:\n",
    "        content = file.read()\n",
    "\n",
    "    # Replace double newlines ('\\n\\n') with a single newline ('\\n')\n",
    "    modified_content = content.replace('\\n', '')\n",
    "\n",
    "    # Write the modified content to the output file\n",
    "    with open(output_file, 'w') as file:\n",
    "        file.write(modified_content)\n",
    "\n",
    "    print(f\"Processed file saved as {output_file}\")\n",
    "\n",
    "\n",
    "# Example usage:\n",
    "input_file = 'commands.txt'  # Path to your input file\n",
    "output_file = 'fixed_commands.txt'  # Path where modified file will be saved\n",
    "remove_newline_skips(input_file, output_file)"
   ]
  },
  {
   "cell_type": "code",
   "execution_count": 5,
   "metadata": {},
   "outputs": [],
   "source": [
    "import os\n",
    "import subprocess\n",
    "import cv2\n",
    "\n",
    "def download_youtube_video(url, name, resolution='720p'):\n",
    "    output_path = f'{name}.mp4'\n",
    "    command = [\n",
    "        'yt-dlp',\n",
    "        '-f', f'bestvideo[height>={resolution[:-1]}][ext=mp4]/best[ext=mp4]',\n",
    "        '-o', output_path,\n",
    "        url\n",
    "    ]\n",
    "    try:\n",
    "        subprocess.run(command, check=True)\n",
    "        print(f\"Downloaded video: {output_path}\")\n",
    "    except subprocess.CalledProcessError as e:\n",
    "        print(f\"An error occurred: {e}\")\n",
    "\n",
    "def extract_frames(video_path, output_dir='frames', interval=3):\n",
    "    if not os.path.exists(output_dir):\n",
    "        os.makedirs(output_dir)\n",
    "    \n",
    "    command = [\n",
    "        'ffmpeg',\n",
    "        '-i', video_path,\n",
    "        '-vf', f'fps=1/{interval}',\n",
    "        f'{output_dir}/frame_%04d.png'\n",
    "    ]\n",
    "    \n",
    "    try:\n",
    "        subprocess.run(command, check=True)\n",
    "        print(f\"Frames extracted to: {output_dir}\")\n",
    "    except subprocess.CalledProcessError as e:\n",
    "        print(f\"An error occurred: {e}\")\n"
   ]
  },
  {
   "cell_type": "code",
   "execution_count": 6,
   "metadata": {},
   "outputs": [
    {
     "name": "stdout",
     "output_type": "stream",
     "text": [
      "Downloaded video: test.mp4\n"
     ]
    }
   ],
   "source": [
    "# test \n",
    "download_youtube_video('https://www.youtube.com/watch?v=1Wn_KBYvZ-g&t=1207s','test')"
   ]
  },
  {
   "cell_type": "markdown",
   "metadata": {},
   "source": [
    "# what remain to do is to : \n",
    "## - scrap the youtube links for each match if it exist in vlr.gg\n",
    "## - Seek at how to make sure to have : link in input and a heat map in output ! \n",
    "## - Once dataset is created. The question is : do we need a background of the map and detect player's position through time\n",
    "## One background for each map in the pull rotation ==> the position in these maps"
   ]
  },
  {
   "cell_type": "code",
   "execution_count": 3,
   "metadata": {},
   "outputs": [
    {
     "name": "stdout",
     "output_type": "stream",
     "text": [
      "Downloaded video: video.mp4\n",
      "24.004997322862753\n",
      "Video FPS: 24.004997322862753, Extracting every 24 frame(s).\n"
     ]
    }
   ],
   "source": [
    "import os\n",
    "import subprocess\n",
    "import cv2\n",
    "\n",
    "def download_youtube_video(url, resolution='720p'):\n",
    "    output_path = 'video.mp4'\n",
    "    command = [\n",
    "        'yt-dlp',\n",
    "        '-f', f'bestvideo[height>={resolution[:-1]}][ext=mp4]/best[ext=mp4]',\n",
    "        '-o', output_path,\n",
    "        url\n",
    "    ]\n",
    "    try:\n",
    "        subprocess.run(command, check=True)\n",
    "        print(f\"Downloaded video: {output_path}\")\n",
    "    except subprocess.CalledProcessError as e:\n",
    "        print(f\"An error occurred: {e}\")\n",
    "\n",
    "def extract_frames(video_path, output_dir='frames', interval=3):\n",
    "    if not os.path.exists(output_dir):\n",
    "        os.makedirs(output_dir)\n",
    "    \n",
    "    command = [\n",
    "        'ffmpeg',\n",
    "        '-i', video_path,\n",
    "        '-vf', f'fps=1/{interval}',\n",
    "        f'{output_dir}/frame_%04d.png'\n",
    "    ]\n",
    "    \n",
    "    try:\n",
    "        subprocess.run(command, check=True)\n",
    "        print(f\"Frames extracted to: {output_dir}\")\n",
    "    except subprocess.CalledProcessError as e:\n",
    "        print(f\"An error occurred: {e}\")\n",
    "\n",
    "\n",
    "def extract_frames_from_video(video_path, output_folder, frame_rate=1):\n",
    "    if not os.path.exists(output_folder):\n",
    "        os.makedirs(output_folder)\n",
    "    \n",
    "    # Load the video\n",
    "    vidcap = cv2.VideoCapture(video_path)\n",
    "    success, image = vidcap.read()\n",
    "    count = 0\n",
    "    fps = vidcap.get(cv2.CAP_PROP_FPS)  # Get frames per second of the video\n",
    "    print(fps)\n",
    "    interval = int(fps / frame_rate)  # Calculate the interval between frames to capture\n",
    "    print(f\"Video FPS: {fps}, Extracting every {interval} frame(s).\")\n",
    "    \n",
    "    while success:\n",
    "        # Save frame as JPEG file\n",
    "        cv2.imwrite(os.path.join(output_folder, f\"frame{count:04d}.jpg\"), image)\n",
    "        count += interval\n",
    "        # Move the frame position to the next frame to capture\n",
    "        vidcap.set(cv2.CAP_PROP_POS_FRAMES, count)\n",
    "        success, image = vidcap.read()\n",
    "\n",
    "    vidcap.release()\n",
    "\n",
    "# URL of the YouTube video\n",
    "youtube_url = 'https://www.youtube.com/watch?v=g4xs_5rZdos'\n",
    "\n",
    "# Step 1: Download the video\n",
    "download_youtube_video(youtube_url, resolution='720p')\n",
    "\n",
    "# Step 2: Extract frames from the video\n",
    "extract_frames_from_video('video.mp4', 'output_frames', frame_rate=1)"
   ]
  }
 ],
 "metadata": {
  "kernelspec": {
   "display_name": "myenv",
   "language": "python",
   "name": "python3"
  },
  "language_info": {
   "codemirror_mode": {
    "name": "ipython",
    "version": 3
   },
   "file_extension": ".py",
   "mimetype": "text/x-python",
   "name": "python",
   "nbconvert_exporter": "python",
   "pygments_lexer": "ipython3",
   "version": "3.11.5"
  }
 },
 "nbformat": 4,
 "nbformat_minor": 2
}
