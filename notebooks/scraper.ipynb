{
 "cells": [
  {
   "cell_type": "code",
   "execution_count": 2,
   "metadata": {},
   "outputs": [
    {
     "name": "stdout",
     "output_type": "stream",
     "text": [
      "Requirement already satisfied: requests in c:\\users\\mariu\\anaconda3\\envs\\comp0197-pt\\lib\\site-packages (2.28.1)\n",
      "Requirement already satisfied: urllib3<1.27,>=1.21.1 in c:\\users\\mariu\\anaconda3\\envs\\comp0197-pt\\lib\\site-packages (from requests) (1.26.14)\n",
      "Requirement already satisfied: charset-normalizer<3,>=2 in c:\\users\\mariu\\anaconda3\\envs\\comp0197-pt\\lib\\site-packages (from requests) (2.1.1)\n",
      "Requirement already satisfied: idna<4,>=2.5 in c:\\users\\mariu\\anaconda3\\envs\\comp0197-pt\\lib\\site-packages (from requests) (3.4)\n",
      "Requirement already satisfied: certifi>=2017.4.17 in c:\\users\\mariu\\anaconda3\\envs\\comp0197-pt\\lib\\site-packages (from requests) (2022.12.7)\n",
      "Requirement already satisfied: bs4 in c:\\users\\mariu\\anaconda3\\envs\\comp0197-pt\\lib\\site-packages (0.0.1)\n",
      "Requirement already satisfied: beautifulsoup4 in c:\\users\\mariu\\anaconda3\\envs\\comp0197-pt\\lib\\site-packages (from bs4) (4.11.1)\n",
      "Requirement already satisfied: soupsieve>1.2 in c:\\users\\mariu\\anaconda3\\envs\\comp0197-pt\\lib\\site-packages (from beautifulsoup4->bs4) (2.3.2.post1)\n",
      "Requirement already satisfied: lxml in c:\\users\\mariu\\anaconda3\\envs\\comp0197-pt\\lib\\site-packages (4.9.2)\n",
      "Requirement already satisfied: pandas in c:\\users\\mariu\\anaconda3\\envs\\comp0197-pt\\lib\\site-packages (1.5.3)\n",
      "Requirement already satisfied: numpy>=1.21.0 in c:\\users\\mariu\\anaconda3\\envs\\comp0197-pt\\lib\\site-packages (from pandas) (1.23.5)\n",
      "Requirement already satisfied: pytz>=2020.1 in c:\\users\\mariu\\anaconda3\\envs\\comp0197-pt\\lib\\site-packages (from pandas) (2022.7.1)\n",
      "Requirement already satisfied: python-dateutil>=2.8.1 in c:\\users\\mariu\\appdata\\roaming\\python\\python310\\site-packages (from pandas) (2.8.2)\n",
      "Requirement already satisfied: six>=1.5 in c:\\users\\mariu\\appdata\\roaming\\python\\python310\\site-packages (from python-dateutil>=2.8.1->pandas) (1.16.0)\n"
     ]
    }
   ],
   "source": [
    "!pip install requests\n",
    "!pip install bs4\n",
    "!pip install lxml\n",
    "!pip install pandas"
   ]
  },
  {
   "cell_type": "code",
   "execution_count": 1,
   "metadata": {},
   "outputs": [
    {
     "name": "stderr",
     "output_type": "stream",
     "text": [
      "2024-05-24 22:40:01.093 WARNING streamlit.runtime.caching.cache_data_api: No runtime found, using MemoryCacheStorageManager\n",
      "2024-05-24 22:40:01.096 WARNING streamlit.runtime.caching.cache_data_api: No runtime found, using MemoryCacheStorageManager\n",
      "2024-05-24 22:40:01.098 WARNING streamlit.runtime.caching.cache_data_api: No runtime found, using MemoryCacheStorageManager\n",
      "2024-05-24 22:40:01.099 WARNING streamlit.runtime.caching.cache_data_api: No runtime found, using MemoryCacheStorageManager\n",
      "2024-05-24 22:40:01.100 WARNING streamlit.runtime.caching.cache_data_api: No runtime found, using MemoryCacheStorageManager\n",
      "2024-05-24 22:40:01.102 WARNING streamlit.runtime.caching.cache_data_api: No runtime found, using MemoryCacheStorageManager\n",
      "2024-05-24 22:40:01.104 WARNING streamlit.runtime.caching.cache_data_api: No runtime found, using MemoryCacheStorageManager\n"
     ]
    }
   ],
   "source": [
    "# import libraries\n",
    "import os\n",
    "import pandas as pd\n",
    "import lxml\n",
    "import requests  \n",
    "from bs4 import BeautifulSoup\n",
    "from scraper import *"
   ]
  },
  {
   "cell_type": "markdown",
   "metadata": {},
   "source": [
    "# scraping of the performance info"
   ]
  },
  {
   "cell_type": "code",
   "execution_count": 2,
   "metadata": {},
   "outputs": [],
   "source": [
    "from scraper import *\n",
    "from utils import *\n",
    "\n",
    "list_url = ['https://www.vlr.gg/318937/karmine-corp-vs-team-heretics-champions-tour-2024-emea-stage-1-w5']\n"
   ]
  },
  {
   "cell_type": "code",
   "execution_count": 5,
   "metadata": {},
   "outputs": [],
   "source": [
    "def pick_and_ban_scraper(list_url):\n",
    "    \"\"\"\n",
    "    Function that extract the picks and ban data from a vlr.gg url (page of a match between two teams)\n",
    "    The economy data aims the economy display in the vlr.gg page and gather the data displayed in the tables in a textual form\n",
    "\n",
    "    parameter:\n",
    "        list_url : list of url representing the different matches\n",
    "    \n",
    "    return:\n",
    "        result : a dataframe of all the extracted data flatten\n",
    "    \"\"\"\n",
    "\n",
    "    match_stats = []\n",
    "\n",
    "    for matchnum in range(len(list_url)):\n",
    "\n",
    "        url = list_url[matchnum]\n",
    "\n",
    "        unique_match_id = url.split('/')[3]\n",
    "\n",
    "        source_match = requests.get(url=url).text\n",
    "        soup_match = BeautifulSoup(source_match, features=\"html.parser\")\n",
    "\n",
    "        stage = soup_match.findAll('div', {'class':'match-header-event-series'})[0].text.strip().split(\":\", 1)[0]\n",
    "\n",
    "        series = soup_match.findAll('div', {'class':'match-header-event-series'})[0].text.strip().split(\"\\n\", 1)[1].strip()\n",
    "\n",
    "        try:\n",
    "\n",
    "            picks_bans = soup_match.findAll('div', {'class':'match-header-note'})[0].text.strip().split(\";\")\n",
    "\n",
    "            headers_match = [\"Id\",\"Stage\",\"Series\",\"Team Name\", \"Bans\", \"Picks\", \"Decider\"]\n",
    "            df_match = pd.DataFrame(columns=headers_match)\n",
    "\n",
    "            [pick_or_ban_team1, pick_or_ban_team2] = reorganize_phrases(picks_bans)\n",
    "\n",
    "            row1 = [unique_match_id, stage, series] + pick_or_ban_team1\n",
    "            row2 = [unique_match_id, stage, series]+ pick_or_ban_team2\n",
    "\n",
    "            length = len(df_match)\n",
    "            df_match.loc[length] = row1\n",
    "            df_match.loc[length+1] = row2\n",
    "\n",
    "            match_stats.append(df_match)   \n",
    "        except NameError:\n",
    "            print(f'Matches on the {series}, {stage} are not played yet...')\n",
    "            print(NameError)\n",
    "            continue\n",
    "\n",
    "\n",
    "    try:\n",
    "        result = pd.concat(match_stats).reset_index(drop=True)\n",
    "        result = result.apply(pd.to_numeric, errors='ignore')\n",
    "    except:\n",
    "        result = None\n",
    "\n",
    "    return result"
   ]
  },
  {
   "cell_type": "code",
   "execution_count": 6,
   "metadata": {},
   "outputs": [],
   "source": [
    "t = pick_and_ban_scraper(list_url)"
   ]
  },
  {
   "cell_type": "code",
   "execution_count": 8,
   "metadata": {},
   "outputs": [
    {
     "data": {
      "text/html": [
       "<div>\n",
       "<style scoped>\n",
       "    .dataframe tbody tr th:only-of-type {\n",
       "        vertical-align: middle;\n",
       "    }\n",
       "\n",
       "    .dataframe tbody tr th {\n",
       "        vertical-align: top;\n",
       "    }\n",
       "\n",
       "    .dataframe thead th {\n",
       "        text-align: right;\n",
       "    }\n",
       "</style>\n",
       "<table border=\"1\" class=\"dataframe\">\n",
       "  <thead>\n",
       "    <tr style=\"text-align: right;\">\n",
       "      <th></th>\n",
       "      <th>Id</th>\n",
       "      <th>Stage</th>\n",
       "      <th>Series</th>\n",
       "      <th>Team Name</th>\n",
       "      <th>Bans</th>\n",
       "      <th>Picks</th>\n",
       "      <th>Decider</th>\n",
       "    </tr>\n",
       "  </thead>\n",
       "  <tbody>\n",
       "    <tr>\n",
       "      <th>0</th>\n",
       "      <td>318937</td>\n",
       "      <td>Regular Season</td>\n",
       "      <td>Week 5</td>\n",
       "      <td>KC</td>\n",
       "      <td>[Sunset, Ascent]</td>\n",
       "      <td>[Icebox]</td>\n",
       "      <td>[Bind]</td>\n",
       "    </tr>\n",
       "    <tr>\n",
       "      <th>1</th>\n",
       "      <td>318937</td>\n",
       "      <td>Regular Season</td>\n",
       "      <td>Week 5</td>\n",
       "      <td>TH</td>\n",
       "      <td>[Split, Breeze]</td>\n",
       "      <td>[Lotus]</td>\n",
       "      <td>[Bind]</td>\n",
       "    </tr>\n",
       "  </tbody>\n",
       "</table>\n",
       "</div>"
      ],
      "text/plain": [
       "       Id           Stage  Series Team Name              Bans     Picks  \\\n",
       "0  318937  Regular Season  Week 5        KC  [Sunset, Ascent]  [Icebox]   \n",
       "1  318937  Regular Season  Week 5        TH   [Split, Breeze]   [Lotus]   \n",
       "\n",
       "  Decider  \n",
       "0  [Bind]  \n",
       "1  [Bind]  "
      ]
     },
     "execution_count": 8,
     "metadata": {},
     "output_type": "execute_result"
    }
   ],
   "source": [
    "t"
   ]
  },
  {
   "cell_type": "code",
   "execution_count": 1,
   "metadata": {},
   "outputs": [
    {
     "name": "stdout",
     "output_type": "stream",
     "text": [
      "Get all the matches...\n",
      "Fetching General Data...\n",
      "Fetching Performance Data...\n",
      "Fetching Economy Data...\n",
      "Fetching Picks and Bans Data...\n",
      "Saving the data...\n",
      "DataFrame saved as CSV file: champions-tour-2024-pacific-kickoff_data\\general_data_champions-tour-2024-pacific-kickoff.csv\n",
      "DataFrame saved as CSV file: champions-tour-2024-pacific-kickoff_data\\performance_data_champions-tour-2024-pacific-kickoff.csv\n",
      "DataFrame saved as CSV file: champions-tour-2024-pacific-kickoff_data\\economy_data_champions-tour-2024-pacific-kickoff.csv\n",
      "DataFrame saved as CSV file: champions-tour-2024-pacific-kickoff_data\\pick_ban_data_champions-tour-2024-pacific-kickoff.csv\n"
     ]
    },
    {
     "data": {
      "text/plain": [
       "0"
      ]
     },
     "execution_count": 1,
     "metadata": {},
     "output_type": "execute_result"
    }
   ],
   "source": [
    "from scraper import *\n",
    "\n",
    "main(\"https://www.vlr.gg/event/matches/1924/champions-tour-2024-pacific-kickoff/?series_id=all\")"
   ]
  },
  {
   "cell_type": "code",
   "execution_count": 6,
   "metadata": {},
   "outputs": [
    {
     "data": {
      "text/html": [
       "<div>\n",
       "<style scoped>\n",
       "    .dataframe tbody tr th:only-of-type {\n",
       "        vertical-align: middle;\n",
       "    }\n",
       "\n",
       "    .dataframe tbody tr th {\n",
       "        vertical-align: top;\n",
       "    }\n",
       "\n",
       "    .dataframe thead th {\n",
       "        text-align: right;\n",
       "    }\n",
       "</style>\n",
       "<table border=\"1\" class=\"dataframe\">\n",
       "  <thead>\n",
       "    <tr style=\"text-align: right;\">\n",
       "      <th></th>\n",
       "      <th>Stage</th>\n",
       "      <th>Series</th>\n",
       "      <th>Team Name</th>\n",
       "      <th>Bans</th>\n",
       "      <th>Picks</th>\n",
       "      <th>Decider</th>\n",
       "    </tr>\n",
       "  </thead>\n",
       "  <tbody>\n",
       "    <tr>\n",
       "      <th>0</th>\n",
       "      <td>Group Stage</td>\n",
       "      <td>Decider (C)</td>\n",
       "      <td>M8</td>\n",
       "      <td>[Bind, Ascent]</td>\n",
       "      <td>[Breeze]</td>\n",
       "      <td>[Sunset]</td>\n",
       "    </tr>\n",
       "    <tr>\n",
       "      <th>1</th>\n",
       "      <td>Group Stage</td>\n",
       "      <td>Decider (C)</td>\n",
       "      <td>VIT</td>\n",
       "      <td>[Icebox, Split]</td>\n",
       "      <td>[Lotus]</td>\n",
       "      <td>[Sunset]</td>\n",
       "    </tr>\n",
       "    <tr>\n",
       "      <th>2</th>\n",
       "      <td>Play-Ins</td>\n",
       "      <td>Group B</td>\n",
       "      <td>GTZ</td>\n",
       "      <td>[Lotus, Split, Haven]</td>\n",
       "      <td>[]</td>\n",
       "      <td>[Pearl]</td>\n",
       "    </tr>\n",
       "    <tr>\n",
       "      <th>3</th>\n",
       "      <td>Play-Ins</td>\n",
       "      <td>Group B</td>\n",
       "      <td>MOUZ</td>\n",
       "      <td>[Fracture, Ascent, Bind]</td>\n",
       "      <td>[]</td>\n",
       "      <td>[Pearl]</td>\n",
       "    </tr>\n",
       "  </tbody>\n",
       "</table>\n",
       "</div>"
      ],
      "text/plain": [
       "         Stage       Series Team Name                      Bans     Picks  \\\n",
       "0  Group Stage  Decider (C)        M8            [Bind, Ascent]  [Breeze]   \n",
       "1  Group Stage  Decider (C)       VIT           [Icebox, Split]   [Lotus]   \n",
       "2     Play-Ins      Group B       GTZ     [Lotus, Split, Haven]        []   \n",
       "3     Play-Ins      Group B      MOUZ  [Fracture, Ascent, Bind]        []   \n",
       "\n",
       "    Decider  \n",
       "0  [Sunset]  \n",
       "1  [Sunset]  \n",
       "2   [Pearl]  \n",
       "3   [Pearl]  "
      ]
     },
     "execution_count": 6,
     "metadata": {},
     "output_type": "execute_result"
    }
   ],
   "source": [
    "result.head()"
   ]
  }
 ],
 "metadata": {
  "kernelspec": {
   "display_name": "myenv",
   "language": "python",
   "name": "python3"
  },
  "language_info": {
   "codemirror_mode": {
    "name": "ipython",
    "version": 3
   },
   "file_extension": ".py",
   "mimetype": "text/x-python",
   "name": "python",
   "nbconvert_exporter": "python",
   "pygments_lexer": "ipython3",
   "version": "3.10.8"
  }
 },
 "nbformat": 4,
 "nbformat_minor": 2
}
