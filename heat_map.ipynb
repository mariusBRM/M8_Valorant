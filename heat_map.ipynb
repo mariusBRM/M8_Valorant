{
 "cells": [
  {
   "cell_type": "markdown",
   "metadata": {},
   "source": [
    "Objective of this jupyter notebook is to explore how to create a heat map of the player movement in a round. What would result out of it is a good idea of the map control the Gentle Mates acquires and at what time.\n",
    "\n",
    "- How : Object Detection in the map \n",
    "    -> Gather Data of a map\n",
    "    -> Label the data\n",
    "    -> train model with roboflow\n"
   ]
  },
  {
   "cell_type": "code",
   "execution_count": null,
   "metadata": {},
   "outputs": [],
   "source": [
    "!pip install roboflow"
   ]
  },
  {
   "cell_type": "code",
   "execution_count": 36,
   "metadata": {},
   "outputs": [
    {
     "name": "stdout",
     "output_type": "stream",
     "text": [
      "loading Roboflow workspace...\n",
      "loading Roboflow project...\n"
     ]
    }
   ],
   "source": [
    "from roboflow import Roboflow\n",
    "\n",
    "def load_model():\n",
    "    rf = Roboflow(api_key=\"xEb6a3dXc9T0RuJ5Qnox\")\n",
    "    project = rf.workspace().project(\"valorant-heat-map\")\n",
    "    model = project.version(2).model\n",
    "    return model\n",
    "\n",
    "model = load_model()"
   ]
  },
  {
   "cell_type": "code",
   "execution_count": null,
   "metadata": {},
   "outputs": [],
   "source": [
    "# infer on a local image\n",
    "model.predict(\"heatmaps_data/round3_lotus.mp4\", confidence=40, overlap=30).save(\"prediction.mp4\")"
   ]
  },
  {
   "cell_type": "code",
   "execution_count": null,
   "metadata": {},
   "outputs": [],
   "source": [
    "!pip install moviepy"
   ]
  },
  {
   "cell_type": "code",
   "execution_count": 39,
   "metadata": {},
   "outputs": [],
   "source": [
    "from moviepy.video.io.VideoFileClip import VideoFileClip\n",
    "import os\n",
    "\n",
    "def video_to_images(input_video, output_folder):\n",
    "    # Create the output folder if it doesn't exist\n",
    "    if not os.path.exists(output_folder):\n",
    "        os.makedirs(output_folder)\n",
    "\n",
    "    # Load the video clip\n",
    "    video_clip = VideoFileClip(input_video)\n",
    "\n",
    "    # Get the frames at a rate of 1 frame per second\n",
    "    frames = video_clip.iter_frames(fps=1, dtype=\"uint8\")\n",
    "\n",
    "    # Save each frame as an image\n",
    "    for i, frame in enumerate(frames):\n",
    "        image_path = os.path.join(output_folder, f\"frame_{i + 1:04d}.png\")\n",
    "        video_clip.save_frame(image_path, t=i)\n",
    "\n",
    "    # Close the video clip\n",
    "    video_clip.reader.close()\n",
    "\n",
    "# Example usage:\n",
    "video_path = \"heatmaps_data/round3_lotus.mp4\"\n",
    "output_folder_path = \"heatmaps_data/round3_lotus_images\"\n",
    "\n",
    "video_to_images(video_path, output_folder_path)"
   ]
  },
  {
   "cell_type": "code",
   "execution_count": 45,
   "metadata": {},
   "outputs": [],
   "source": [
    "def get_file_names_in_folder(folder_path):\n",
    "    \"\"\"\n",
    "    Get a list of all file names in a folder.\n",
    "    \n",
    "    Parameters:\n",
    "    - folder_path (str): The path to the folder.\n",
    "\n",
    "    Returns:\n",
    "    - List[str]: A list of file names in the folder.\n",
    "    \"\"\"\n",
    "    file_names = []\n",
    "    for filename in os.listdir(folder_path):\n",
    "        if os.path.isfile(os.path.join(folder_path, filename)):\n",
    "            file_names.append(filename)\n",
    "    return file_names\n",
    "\n",
    "def evaluation(model, paths_to_images):\n",
    "    \n",
    "    report = []\n",
    "    for i,image in enumerate(paths_to_images):\n",
    "        print(f'{i} ---> {len(paths_to_images)}')\n",
    "        report.append(model.predict(\"heatmaps_data/round3_lotus_images/\" + image, confidence=40, overlap=30).json())\n",
    "    \n",
    "    return report"
   ]
  },
  {
   "cell_type": "code",
   "execution_count": 46,
   "metadata": {},
   "outputs": [],
   "source": [
    "report = evaluation(model, get_file_names_in_folder(\"heatmaps_data/round3_lotus_images/\"))"
   ]
  },
  {
   "cell_type": "code",
   "execution_count": null,
   "metadata": {},
   "outputs": [],
   "source": [
    "report"
   ]
  },
  {
   "cell_type": "code",
   "execution_count": null,
   "metadata": {},
   "outputs": [],
   "source": [
    "!pip install matplotlib\n",
    "!pip install cv2\n",
    "!pip install numpy\n",
    "!pip install PIL"
   ]
  },
  {
   "cell_type": "code",
   "execution_count": null,
   "metadata": {},
   "outputs": [],
   "source": [
    "report[0].get('predictions', [])"
   ]
  },
  {
   "cell_type": "code",
   "execution_count": 54,
   "metadata": {},
   "outputs": [],
   "source": [
    "import os\n",
    "import cv2\n",
    "import matplotlib.pyplot as plt\n",
    "import matplotlib.patches as patches\n",
    "import json\n",
    "\n",
    "def show_heatmaps_from_report(report):\n",
    "    \n",
    "    for item in report:\n",
    "        predictions = item.get('predictions', [])\n",
    "\n",
    "        for prediction in predictions:\n",
    "            class_name = prediction['class']\n",
    "            if class_name not in ['DFS', 'ATK']:\n",
    "                continue  # Skip classes other than 'DFS' and 'ATK'\n",
    "\n",
    "            image_path = prediction['image_path']\n",
    "            image = cv2.imread(image_path)\n",
    "\n",
    "            # Create a figure and axes\n",
    "            fig, ax = plt.subplots(1)\n",
    "            ax.imshow(cv2.cvtColor(image, cv2.COLOR_BGR2RGB))\n",
    "\n",
    "            # Extract bounding box coordinates\n",
    "            x, y, width, height = prediction['x'], prediction['y'], prediction['width'], prediction['height']\n",
    "\n",
    "            # Create a rectangle patch\n",
    "            rect = patches.Rectangle((x, y), width, height, linewidth=2, edgecolor='r', facecolor='none')\n",
    "\n",
    "            # Add the rectangle to the Axes\n",
    "            ax.add_patch(rect)\n",
    "\n",
    "            # Display class and confidence\n",
    "            ax.text(x, y - 5, f'{class_name} - {prediction[\"confidence\"]:.2f}', color='r')\n",
    "\n",
    "            # Show the plot\n",
    "            plt.show()"
   ]
  },
  {
   "cell_type": "code",
   "execution_count": null,
   "metadata": {},
   "outputs": [],
   "source": [
    "show_heatmaps_from_report(report, \"\")"
   ]
  },
  {
   "cell_type": "code",
   "execution_count": 64,
   "metadata": {},
   "outputs": [
    {
     "data": {
      "image/png": "[encoded data removed]",
      "text/plain": [
       "<Figure size 640x480 with 2 Axes>"
      ]
     },
     "metadata": {},
     "output_type": "display_data"
    },
    {
     "data": {
      "image/png": "[encoded data removed]",
      "text/plain": [
       "<Figure size 640x480 with 2 Axes>"
      ]
     },
     "metadata": {},
     "output_type": "display_data"
    }
   ],
   "source": [
    "import numpy as np\n",
    "import matplotlib.pyplot as plt\n",
    "\n",
    "def create_heatmap(coordinates):\n",
    "    # Extract unique classes\n",
    "    unique_classes = set(coord['class'] for coord in coordinates)\n",
    "\n",
    "    # Initialize a dictionary to store counts for each class\n",
    "    class_counts = {cls: np.zeros((1080, 1080)) for cls in unique_classes}\n",
    "\n",
    "    # Loop through coordinates and accumulate counts\n",
    "    for coord in coordinates:\n",
    "        x, y, cls = coord['x'], coord['y'], coord['class']\n",
    "        class_counts[cls][y, x] += 1  # Note the reversed y, x for image coordinates\n",
    "\n",
    "    # Plot heatmaps for each class\n",
    "    for cls, counts in class_counts.items():\n",
    "        plt.imshow(counts, cmap='hot', interpolation='nearest', origin='upper')\n",
    "\n",
    "        # Scatter plot with increased alpha for better visibility\n",
    "        plt.scatter([], [], c='w', marker='o', label='Positions', alpha=0.5)\n",
    "\n",
    "        plt.title(f'Heatmap for Class: {cls}')\n",
    "        plt.colorbar()\n",
    "\n",
    "        # Show scatter plot of positions\n",
    "        positions_x, positions_y = np.where(class_counts[cls] > 0)\n",
    "        plt.scatter(positions_y, positions_x, c='w', marker='o', alpha=0.5)\n",
    "\n",
    "        plt.legend()\n",
    "        plt.show()\n",
    "\n",
    "# Example usage:\n",
    "coordinates = [\n",
    "    {'x': 100, 'y': 200, 'class': 'ClassA', 'time': 0},\n",
    "    {'x': 150, 'y': 250, 'class': 'ClassB', 'time': 0},\n",
    "    {'x': 120, 'y': 220, 'class': 'ClassA', 'time': 1},\n",
    "    # Add more coordinates as needed\n",
    "]\n",
    "\n",
    "create_heatmap(coordinates)"
   ]
  }
 ],
 "metadata": {
  "kernelspec": {
   "display_name": "myenv",
   "language": "python",
   "name": "python3"
  },
  "language_info": {
   "codemirror_mode": {
    "name": "ipython",
    "version": 3
   },
   "file_extension": ".py",
   "mimetype": "text/x-python",
   "name": "python",
   "nbconvert_exporter": "python",
   "pygments_lexer": "ipython3",
   "version": "3.11.5"
  }
 },
 "nbformat": 4,
 "nbformat_minor": 2
}
