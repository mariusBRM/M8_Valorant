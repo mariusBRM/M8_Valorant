{
 "cells": [
  {
   "cell_type": "code",
   "execution_count": 18,
   "metadata": {},
   "outputs": [],
   "source": [
    "import pandas as pd\n",
    "import numpy as np\n",
    "from utils import *\n",
    "from data_processing import *\n",
    "\n",
    "# load general data\n",
    "general_pacific = pd.read_csv('champions-tour-2024-pacific-kickoff_data\\general_data_champions-tour-2024-pacific-kickoff.csv')\n",
    "general_americas = pd.read_csv('champions-tour-2024-americas-kickoff_data\\general_data_champions-tour-2024-americas-kickoff.csv')\n",
    "general_emea = pd.read_csv('champions-tour-2024-emea-kickoff_data\\general_data_champions-tour-2024-emea-kickoff.csv')\n",
    "\n",
    "# performance data\n",
    "performance_pacific = pd.read_csv('champions-tour-2024-pacific-kickoff_data\\performance_data_champions-tour-2024-pacific-kickoff.csv')\n",
    "performance_americas = pd.read_csv('champions-tour-2024-americas-kickoff_data\\performance_data_champions-tour-2024-americas-kickoff.csv')\n",
    "performance_emea = pd.read_csv('champions-tour-2024-emea-kickoff_data\\performance_data_champions-tour-2024-emea-kickoff.csv')\n",
    "\n",
    "# economic data\n",
    "economy_pacific = pd.read_csv('champions-tour-2024-pacific-kickoff_data\\economy_data_champions-tour-2024-pacific-kickoff.csv')\n",
    "economy_americas = pd.read_csv('champions-tour-2024-americas-kickoff_data\\economy_data_champions-tour-2024-americas-kickoff.csv')\n",
    "economy_emea = pd.read_csv('champions-tour-2024-emea-kickoff_data\\economy_data_champions-tour-2024-emea-kickoff.csv')\n",
    "\n",
    "# picks and bans\n",
    "pick_ban_pacific = pd.read_csv('champions-tour-2024-pacific-kickoff_data\\pick_ban_data_champions-tour-2024-pacific-kickoff.csv')\n",
    "pick_ban_americas = pd.read_csv('champions-tour-2024-americas-kickoff_data\\pick_ban_data_champions-tour-2024-americas-kickoff.csv')\n",
    "pick_ban_emea = pd.read_csv('champions-tour-2024-emea-kickoff_data\\pick_ban_data_champions-tour-2024-emea-kickoff.csv')"
   ]
  },
  {
   "cell_type": "markdown",
   "metadata": {},
   "source": [
    "<h1>Individual Data</h1>\n",
    "<h2>General Data</h2>"
   ]
  },
  {
   "cell_type": "code",
   "execution_count": 10,
   "metadata": {},
   "outputs": [],
   "source": [
    "df_pacific_general = general_feature_creation_for_teams(general_pacific)\n",
    "df_americas_general = general_feature_creation_for_teams(general_americas)\n",
    "df_emea_general = general_feature_creation_for_teams(general_emea)"
   ]
  },
  {
   "cell_type": "code",
   "execution_count": 11,
   "metadata": {},
   "outputs": [],
   "source": [
    "df_general = create_dataframe(df_emea_general,df_americas_general,df_pacific_general)\n",
    "# Assuming the last column of the data is the target variable (e.g., region labels)\n",
    "X_general, y_general = df_general.iloc[:, :-1], df_general.index.get_level_values(0)   # Features & Target variable (region labels)"
   ]
  },
  {
   "cell_type": "markdown",
   "metadata": {},
   "source": [
    "<h3>Feature Selection & Visualization General Data</h3>"
   ]
  },
  {
   "cell_type": "code",
   "execution_count": 4,
   "metadata": {},
   "outputs": [
    {
     "name": "stdout",
     "output_type": "stream",
     "text": [
      "Selected Features:\n",
      "Index(['avrg_acs_per_team_atk', 'std_d_per_team', 'std_d_per_team_atk',\n",
      "       'std_d_per_team_dfs', 'std_adr_per_team', 'std_hs%_per_team',\n",
      "       'std_fk_per_team', 'avrg_fk_per_team_atk', 'std_fk_per_team_atk',\n",
      "       'avrg_fk_per_team_dfs'],\n",
      "      dtype='object')\n"
     ]
    }
   ],
   "source": [
    "k_best_feature_general = selectKbest(X_general, y_general)"
   ]
  },
  {
   "cell_type": "code",
   "execution_count": 16,
   "metadata": {},
   "outputs": [
    {
     "name": "stdout",
     "output_type": "stream",
     "text": [
      "Selected Features:\n",
      "Index(['std_r_per_team_dfs', 'std_k_per_team', 'std_d_per_team',\n",
      "       'std_d_per_team_atk', 'std_adr_per_team', 'avrg_hs%_per_team_atk',\n",
      "       'std_hs%_per_team_atk', 'std_fk_per_team', 'avrg_fk_per_team_atk',\n",
      "       'std_fk_per_team_atk', 'avrg_fk_per_team_dfs'],\n",
      "      dtype='object')\n",
      "Optimal number of features: 11\n"
     ]
    }
   ],
   "source": [
    "k_best_feature_rfecv = RFECV_feature_selection(X_general,y_general,\"linear\")"
   ]
  },
  {
   "cell_type": "code",
   "execution_count": 5,
   "metadata": {},
   "outputs": [
    {
     "name": "stdout",
     "output_type": "stream",
     "text": [
      "Plots saved as PNG files.\n"
     ]
    }
   ],
   "source": [
    "visualize_mean_feature_for_each_region(df_general,k_best_feature_general)"
   ]
  },
  {
   "cell_type": "markdown",
   "metadata": {},
   "source": [
    "<h2>Performance data</h2>"
   ]
  },
  {
   "cell_type": "code",
   "execution_count": 6,
   "metadata": {},
   "outputs": [],
   "source": [
    "performance_feature_emea = performance_feature_creation_for_teams(performance_emea, economy_emea)\n",
    "performance_feature_americas = performance_feature_creation_for_teams(performance_americas, economy_americas)\n",
    "performance_feature_pacific = performance_feature_creation_for_teams(performance_pacific, economy_pacific)"
   ]
  },
  {
   "cell_type": "code",
   "execution_count": 8,
   "metadata": {},
   "outputs": [],
   "source": [
    "df_performance = create_dataframe(performance_feature_emea,performance_feature_americas,performance_feature_pacific)\n",
    "columns_to_drop = ['5k_mean', '5k_std','1v5_mean', '1v5_std']\n",
    "df_performance_dropped = df_performance.drop(columns=columns_to_drop)\n",
    "X_performance, y_performance = df_performance_dropped.iloc[:, :-1], df_performance_dropped.index.get_level_values(0)   # Features & Target variable (region labels)"
   ]
  },
  {
   "cell_type": "code",
   "execution_count": 4,
   "metadata": {},
   "outputs": [
    {
     "name": "stdout",
     "output_type": "stream",
     "text": [
      "Feature '2k_mean': 0.561182270618906\n",
      "Feature '2k_std': 0.7833969591481695\n",
      "Feature '3k_std': 0.47117442518602237\n",
      "Feature '4k_mean': 1.1873820438640228\n",
      "Feature '1v1_std': 0.6444426610886786\n",
      "Feature '1v2_mean': 0.6237527212317263\n",
      "Feature '1v2_std': 0.5614204568696978\n",
      "Feature '1v3_std': 0.6534339325305514\n",
      "Feature 'econ_std': 0.7659081599989729\n",
      "Feature 'pl_mean': 0.9437653919871462\n"
     ]
    }
   ],
   "source": [
    "k_best_feature_performance = selectKbest(X_performance, y_performance, k=10)"
   ]
  },
  {
   "cell_type": "code",
   "execution_count": 17,
   "metadata": {},
   "outputs": [
    {
     "name": "stdout",
     "output_type": "stream",
     "text": [
      "Selected Features:\n",
      "Index(['2k_mean', '2k_std', '3k_std', '4k_mean', '1v1_mean', '1v1_std',\n",
      "       '1v2_mean', '1v2_std', '1v3_mean', '1v3_std', 'pl_mean', 'pl_std',\n",
      "       'de_mean'],\n",
      "      dtype='object')\n",
      "Optimal number of features: 13\n"
     ]
    }
   ],
   "source": [
    "k_best_feature_rfecv_performance = RFECV_feature_selection(X_performance,y_performance,\"linear\")"
   ]
  },
  {
   "cell_type": "code",
   "execution_count": 9,
   "metadata": {},
   "outputs": [
    {
     "name": "stdout",
     "output_type": "stream",
     "text": [
      "Plots saved as PNG files.\n"
     ]
    }
   ],
   "source": [
    "visualize_mean_feature_for_each_region(df_performance,k_best_feature_performance)"
   ]
  },
  {
   "cell_type": "markdown",
   "metadata": {},
   "source": [
    "<h2>Economic Data</h2>"
   ]
  },
  {
   "cell_type": "code",
   "execution_count": 58,
   "metadata": {},
   "outputs": [],
   "source": [
    "al = calculate_mean_economy(economy_pacific)"
   ]
  },
  {
   "cell_type": "code",
   "execution_count": 33,
   "metadata": {},
   "outputs": [],
   "source": [
    "# Bank & Buys\n",
    "\n",
    "# \n",
    "t = create_summary_rounds_dataset(economy_pacific)"
   ]
  },
  {
   "cell_type": "code",
   "execution_count": 54,
   "metadata": {},
   "outputs": [],
   "source": [
    "test = t.columns[1:][:-1]"
   ]
  },
  {
   "cell_type": "code",
   "execution_count": 55,
   "metadata": {},
   "outputs": [
    {
     "data": {
      "text/plain": [
       "Index(['Pistol_Won', 'Pistol', 'Eco_Won', 'Eco', '$_Won', '$', '$$_Won', '$$',\n",
       "       '$$$_Won', '$$$'],\n",
       "      dtype='object')"
      ]
     },
     "execution_count": 55,
     "metadata": {},
     "output_type": "execute_result"
    }
   ],
   "source": [
    "test"
   ]
  },
  {
   "cell_type": "code",
   "execution_count": 27,
   "metadata": {},
   "outputs": [],
   "source": [
    "ratio = create_ratio_economy_rounds(t)"
   ]
  },
  {
   "cell_type": "code",
   "execution_count": 31,
   "metadata": {},
   "outputs": [],
   "source": [
    "ratio.set_index('Team Name')\n",
    "columns_to_drop = ['Pistol_Won', 'Pistol', 'Eco_Won', 'Eco', '$_Won', '$',\n",
    "       '$$_Won', '$$', '$$$_Won', '$$$']\n",
    "dropped_ratio = ratio.drop(columns=columns_to_drop)"
   ]
  },
  {
   "cell_type": "code",
   "execution_count": 32,
   "metadata": {},
   "outputs": [
    {
     "data": {
      "text/html": [
       "<div>\n",
       "<style scoped>\n",
       "    .dataframe tbody tr th:only-of-type {\n",
       "        vertical-align: middle;\n",
       "    }\n",
       "\n",
       "    .dataframe tbody tr th {\n",
       "        vertical-align: top;\n",
       "    }\n",
       "\n",
       "    .dataframe thead th {\n",
       "        text-align: right;\n",
       "    }\n",
       "</style>\n",
       "<table border=\"1\" class=\"dataframe\">\n",
       "  <thead>\n",
       "    <tr style=\"text-align: right;\">\n",
       "      <th></th>\n",
       "      <th>Team Name</th>\n",
       "      <th>nb_rounds</th>\n",
       "      <th>ratio_pistol_won</th>\n",
       "      <th>ratio_eco_won</th>\n",
       "      <th>ratio_$_won</th>\n",
       "      <th>ratio_$$_won</th>\n",
       "      <th>ratio_$$$_won</th>\n",
       "      <th>ratio_Eco</th>\n",
       "      <th>ratio_$</th>\n",
       "      <th>ratio_$$</th>\n",
       "      <th>ratio_$$$</th>\n",
       "    </tr>\n",
       "  </thead>\n",
       "  <tbody>\n",
       "    <tr>\n",
       "      <th>0</th>\n",
       "      <td>DRX</td>\n",
       "      <td>133</td>\n",
       "      <td>0.75</td>\n",
       "      <td>0.56</td>\n",
       "      <td>0.25</td>\n",
       "      <td>0.53</td>\n",
       "      <td>0.56</td>\n",
       "      <td>0.135</td>\n",
       "      <td>0.030</td>\n",
       "      <td>0.241</td>\n",
       "      <td>0.594</td>\n",
       "    </tr>\n",
       "    <tr>\n",
       "      <th>1</th>\n",
       "      <td>GEN</td>\n",
       "      <td>429</td>\n",
       "      <td>0.52</td>\n",
       "      <td>0.39</td>\n",
       "      <td>0.38</td>\n",
       "      <td>0.60</td>\n",
       "      <td>0.57</td>\n",
       "      <td>0.142</td>\n",
       "      <td>0.061</td>\n",
       "      <td>0.245</td>\n",
       "      <td>0.552</td>\n",
       "    </tr>\n",
       "    <tr>\n",
       "      <th>2</th>\n",
       "      <td>TLN</td>\n",
       "      <td>122</td>\n",
       "      <td>0.58</td>\n",
       "      <td>0.40</td>\n",
       "      <td>0.40</td>\n",
       "      <td>0.45</td>\n",
       "      <td>0.53</td>\n",
       "      <td>0.164</td>\n",
       "      <td>0.041</td>\n",
       "      <td>0.238</td>\n",
       "      <td>0.557</td>\n",
       "    </tr>\n",
       "    <tr>\n",
       "      <th>3</th>\n",
       "      <td>PRX</td>\n",
       "      <td>191</td>\n",
       "      <td>0.39</td>\n",
       "      <td>0.28</td>\n",
       "      <td>0.00</td>\n",
       "      <td>0.53</td>\n",
       "      <td>0.62</td>\n",
       "      <td>0.152</td>\n",
       "      <td>0.052</td>\n",
       "      <td>0.246</td>\n",
       "      <td>0.550</td>\n",
       "    </tr>\n",
       "    <tr>\n",
       "      <th>4</th>\n",
       "      <td>GE</td>\n",
       "      <td>149</td>\n",
       "      <td>0.36</td>\n",
       "      <td>0.25</td>\n",
       "      <td>0.00</td>\n",
       "      <td>0.46</td>\n",
       "      <td>0.49</td>\n",
       "      <td>0.161</td>\n",
       "      <td>0.034</td>\n",
       "      <td>0.262</td>\n",
       "      <td>0.544</td>\n",
       "    </tr>\n",
       "    <tr>\n",
       "      <th>5</th>\n",
       "      <td>RRQ</td>\n",
       "      <td>136</td>\n",
       "      <td>0.42</td>\n",
       "      <td>0.32</td>\n",
       "      <td>0.17</td>\n",
       "      <td>0.47</td>\n",
       "      <td>0.53</td>\n",
       "      <td>0.140</td>\n",
       "      <td>0.044</td>\n",
       "      <td>0.316</td>\n",
       "      <td>0.500</td>\n",
       "    </tr>\n",
       "    <tr>\n",
       "      <th>6</th>\n",
       "      <td>DFM</td>\n",
       "      <td>86</td>\n",
       "      <td>0.25</td>\n",
       "      <td>0.15</td>\n",
       "      <td>0.00</td>\n",
       "      <td>0.44</td>\n",
       "      <td>0.49</td>\n",
       "      <td>0.151</td>\n",
       "      <td>0.058</td>\n",
       "      <td>0.314</td>\n",
       "      <td>0.477</td>\n",
       "    </tr>\n",
       "    <tr>\n",
       "      <th>7</th>\n",
       "      <td>ZETA</td>\n",
       "      <td>212</td>\n",
       "      <td>0.59</td>\n",
       "      <td>0.45</td>\n",
       "      <td>0.08</td>\n",
       "      <td>0.43</td>\n",
       "      <td>0.50</td>\n",
       "      <td>0.146</td>\n",
       "      <td>0.057</td>\n",
       "      <td>0.264</td>\n",
       "      <td>0.533</td>\n",
       "    </tr>\n",
       "    <tr>\n",
       "      <th>8</th>\n",
       "      <td>T1</td>\n",
       "      <td>163</td>\n",
       "      <td>0.50</td>\n",
       "      <td>0.36</td>\n",
       "      <td>0.00</td>\n",
       "      <td>0.54</td>\n",
       "      <td>0.61</td>\n",
       "      <td>0.135</td>\n",
       "      <td>0.037</td>\n",
       "      <td>0.215</td>\n",
       "      <td>0.613</td>\n",
       "    </tr>\n",
       "    <tr>\n",
       "      <th>9</th>\n",
       "      <td>BLD</td>\n",
       "      <td>122</td>\n",
       "      <td>0.50</td>\n",
       "      <td>0.33</td>\n",
       "      <td>0.17</td>\n",
       "      <td>0.39</td>\n",
       "      <td>0.52</td>\n",
       "      <td>0.123</td>\n",
       "      <td>0.049</td>\n",
       "      <td>0.230</td>\n",
       "      <td>0.598</td>\n",
       "    </tr>\n",
       "    <tr>\n",
       "      <th>10</th>\n",
       "      <td>TS</td>\n",
       "      <td>225</td>\n",
       "      <td>0.50</td>\n",
       "      <td>0.36</td>\n",
       "      <td>0.18</td>\n",
       "      <td>0.66</td>\n",
       "      <td>0.59</td>\n",
       "      <td>0.147</td>\n",
       "      <td>0.049</td>\n",
       "      <td>0.222</td>\n",
       "      <td>0.582</td>\n",
       "    </tr>\n",
       "  </tbody>\n",
       "</table>\n",
       "</div>"
      ],
      "text/plain": [
       "   Team Name  nb_rounds  ratio_pistol_won  ratio_eco_won  ratio_$_won  \\\n",
       "0        DRX        133              0.75           0.56         0.25   \n",
       "1        GEN        429              0.52           0.39         0.38   \n",
       "2        TLN        122              0.58           0.40         0.40   \n",
       "3        PRX        191              0.39           0.28         0.00   \n",
       "4         GE        149              0.36           0.25         0.00   \n",
       "5        RRQ        136              0.42           0.32         0.17   \n",
       "6        DFM         86              0.25           0.15         0.00   \n",
       "7       ZETA        212              0.59           0.45         0.08   \n",
       "8         T1        163              0.50           0.36         0.00   \n",
       "9        BLD        122              0.50           0.33         0.17   \n",
       "10        TS        225              0.50           0.36         0.18   \n",
       "\n",
       "    ratio_$$_won  ratio_$$$_won  ratio_Eco  ratio_$  ratio_$$  ratio_$$$  \n",
       "0           0.53           0.56      0.135    0.030     0.241      0.594  \n",
       "1           0.60           0.57      0.142    0.061     0.245      0.552  \n",
       "2           0.45           0.53      0.164    0.041     0.238      0.557  \n",
       "3           0.53           0.62      0.152    0.052     0.246      0.550  \n",
       "4           0.46           0.49      0.161    0.034     0.262      0.544  \n",
       "5           0.47           0.53      0.140    0.044     0.316      0.500  \n",
       "6           0.44           0.49      0.151    0.058     0.314      0.477  \n",
       "7           0.43           0.50      0.146    0.057     0.264      0.533  \n",
       "8           0.54           0.61      0.135    0.037     0.215      0.613  \n",
       "9           0.39           0.52      0.123    0.049     0.230      0.598  \n",
       "10          0.66           0.59      0.147    0.049     0.222      0.582  "
      ]
     },
     "execution_count": 32,
     "metadata": {},
     "output_type": "execute_result"
    }
   ],
   "source": [
    "dropped_ratio"
   ]
  },
  {
   "cell_type": "code",
   "execution_count": 63,
   "metadata": {},
   "outputs": [],
   "source": [
    "def economy_feature_creation_for_teams(economy):\n",
    "    \"\"\" Function that create the dataframe with selected feature for the economic data for each region \"\"\"\n",
    "    \n",
    "    # Economic rounds ratio\n",
    "    summary_economy_rounds = create_summary_rounds_dataset(economy)\n",
    "    columns_to_drop = summary_economy_rounds.columns[1:][:-1]\n",
    "    ratio = create_ratio_economy_rounds(summary_economy_rounds)\n",
    "    ratio_dropped = ratio.drop(columns=columns_to_drop)\n",
    "    ratio_dropped.set_index(keys=['Team Name'])\n",
    "\n",
    "    # Bank and Buys\n",
    "    #bank_and_buys = calculate_mean_economy(economy)\n",
    "    #ratio_dropped['Bank'] = ratio_dropped.index.map(lambda x: bank_and_buys[x][0])\n",
    "    #ratio_dropped['Buys'] = ratio_dropped.index.map(lambda x: bank_and_buys[x][1])\n",
    "\n",
    "    return ratio_dropped\n",
    "    \n",
    "\n",
    "r = economy_feature_creation_for_teams(economy_pacific)"
   ]
  },
  {
   "cell_type": "code",
   "execution_count": 64,
   "metadata": {},
   "outputs": [
    {
     "data": {
      "text/html": [
       "<div>\n",
       "<style scoped>\n",
       "    .dataframe tbody tr th:only-of-type {\n",
       "        vertical-align: middle;\n",
       "    }\n",
       "\n",
       "    .dataframe tbody tr th {\n",
       "        vertical-align: top;\n",
       "    }\n",
       "\n",
       "    .dataframe thead th {\n",
       "        text-align: right;\n",
       "    }\n",
       "</style>\n",
       "<table border=\"1\" class=\"dataframe\">\n",
       "  <thead>\n",
       "    <tr style=\"text-align: right;\">\n",
       "      <th></th>\n",
       "      <th>Team Name</th>\n",
       "      <th>nb_rounds</th>\n",
       "      <th>ratio_pistol_won</th>\n",
       "      <th>ratio_eco_won</th>\n",
       "      <th>ratio_$_won</th>\n",
       "      <th>ratio_$$_won</th>\n",
       "      <th>ratio_$$$_won</th>\n",
       "      <th>ratio_Eco</th>\n",
       "      <th>ratio_$</th>\n",
       "      <th>ratio_$$</th>\n",
       "      <th>ratio_$$$</th>\n",
       "    </tr>\n",
       "  </thead>\n",
       "  <tbody>\n",
       "    <tr>\n",
       "      <th>0</th>\n",
       "      <td>DRX</td>\n",
       "      <td>133</td>\n",
       "      <td>0.75</td>\n",
       "      <td>0.56</td>\n",
       "      <td>0.25</td>\n",
       "      <td>0.53</td>\n",
       "      <td>0.56</td>\n",
       "      <td>0.135</td>\n",
       "      <td>0.030</td>\n",
       "      <td>0.241</td>\n",
       "      <td>0.594</td>\n",
       "    </tr>\n",
       "    <tr>\n",
       "      <th>1</th>\n",
       "      <td>GEN</td>\n",
       "      <td>429</td>\n",
       "      <td>0.52</td>\n",
       "      <td>0.39</td>\n",
       "      <td>0.38</td>\n",
       "      <td>0.60</td>\n",
       "      <td>0.57</td>\n",
       "      <td>0.142</td>\n",
       "      <td>0.061</td>\n",
       "      <td>0.245</td>\n",
       "      <td>0.552</td>\n",
       "    </tr>\n",
       "    <tr>\n",
       "      <th>2</th>\n",
       "      <td>TLN</td>\n",
       "      <td>122</td>\n",
       "      <td>0.58</td>\n",
       "      <td>0.40</td>\n",
       "      <td>0.40</td>\n",
       "      <td>0.45</td>\n",
       "      <td>0.53</td>\n",
       "      <td>0.164</td>\n",
       "      <td>0.041</td>\n",
       "      <td>0.238</td>\n",
       "      <td>0.557</td>\n",
       "    </tr>\n",
       "    <tr>\n",
       "      <th>3</th>\n",
       "      <td>PRX</td>\n",
       "      <td>191</td>\n",
       "      <td>0.39</td>\n",
       "      <td>0.28</td>\n",
       "      <td>0.00</td>\n",
       "      <td>0.53</td>\n",
       "      <td>0.62</td>\n",
       "      <td>0.152</td>\n",
       "      <td>0.052</td>\n",
       "      <td>0.246</td>\n",
       "      <td>0.550</td>\n",
       "    </tr>\n",
       "    <tr>\n",
       "      <th>4</th>\n",
       "      <td>GE</td>\n",
       "      <td>149</td>\n",
       "      <td>0.36</td>\n",
       "      <td>0.25</td>\n",
       "      <td>0.00</td>\n",
       "      <td>0.46</td>\n",
       "      <td>0.49</td>\n",
       "      <td>0.161</td>\n",
       "      <td>0.034</td>\n",
       "      <td>0.262</td>\n",
       "      <td>0.544</td>\n",
       "    </tr>\n",
       "    <tr>\n",
       "      <th>5</th>\n",
       "      <td>RRQ</td>\n",
       "      <td>136</td>\n",
       "      <td>0.42</td>\n",
       "      <td>0.32</td>\n",
       "      <td>0.17</td>\n",
       "      <td>0.47</td>\n",
       "      <td>0.53</td>\n",
       "      <td>0.140</td>\n",
       "      <td>0.044</td>\n",
       "      <td>0.316</td>\n",
       "      <td>0.500</td>\n",
       "    </tr>\n",
       "    <tr>\n",
       "      <th>6</th>\n",
       "      <td>DFM</td>\n",
       "      <td>86</td>\n",
       "      <td>0.25</td>\n",
       "      <td>0.15</td>\n",
       "      <td>0.00</td>\n",
       "      <td>0.44</td>\n",
       "      <td>0.49</td>\n",
       "      <td>0.151</td>\n",
       "      <td>0.058</td>\n",
       "      <td>0.314</td>\n",
       "      <td>0.477</td>\n",
       "    </tr>\n",
       "    <tr>\n",
       "      <th>7</th>\n",
       "      <td>ZETA</td>\n",
       "      <td>212</td>\n",
       "      <td>0.59</td>\n",
       "      <td>0.45</td>\n",
       "      <td>0.08</td>\n",
       "      <td>0.43</td>\n",
       "      <td>0.50</td>\n",
       "      <td>0.146</td>\n",
       "      <td>0.057</td>\n",
       "      <td>0.264</td>\n",
       "      <td>0.533</td>\n",
       "    </tr>\n",
       "    <tr>\n",
       "      <th>8</th>\n",
       "      <td>T1</td>\n",
       "      <td>163</td>\n",
       "      <td>0.50</td>\n",
       "      <td>0.36</td>\n",
       "      <td>0.00</td>\n",
       "      <td>0.54</td>\n",
       "      <td>0.61</td>\n",
       "      <td>0.135</td>\n",
       "      <td>0.037</td>\n",
       "      <td>0.215</td>\n",
       "      <td>0.613</td>\n",
       "    </tr>\n",
       "    <tr>\n",
       "      <th>9</th>\n",
       "      <td>BLD</td>\n",
       "      <td>122</td>\n",
       "      <td>0.50</td>\n",
       "      <td>0.33</td>\n",
       "      <td>0.17</td>\n",
       "      <td>0.39</td>\n",
       "      <td>0.52</td>\n",
       "      <td>0.123</td>\n",
       "      <td>0.049</td>\n",
       "      <td>0.230</td>\n",
       "      <td>0.598</td>\n",
       "    </tr>\n",
       "    <tr>\n",
       "      <th>10</th>\n",
       "      <td>TS</td>\n",
       "      <td>225</td>\n",
       "      <td>0.50</td>\n",
       "      <td>0.36</td>\n",
       "      <td>0.18</td>\n",
       "      <td>0.66</td>\n",
       "      <td>0.59</td>\n",
       "      <td>0.147</td>\n",
       "      <td>0.049</td>\n",
       "      <td>0.222</td>\n",
       "      <td>0.582</td>\n",
       "    </tr>\n",
       "  </tbody>\n",
       "</table>\n",
       "</div>"
      ],
      "text/plain": [
       "   Team Name  nb_rounds  ratio_pistol_won  ratio_eco_won  ratio_$_won  \\\n",
       "0        DRX        133              0.75           0.56         0.25   \n",
       "1        GEN        429              0.52           0.39         0.38   \n",
       "2        TLN        122              0.58           0.40         0.40   \n",
       "3        PRX        191              0.39           0.28         0.00   \n",
       "4         GE        149              0.36           0.25         0.00   \n",
       "5        RRQ        136              0.42           0.32         0.17   \n",
       "6        DFM         86              0.25           0.15         0.00   \n",
       "7       ZETA        212              0.59           0.45         0.08   \n",
       "8         T1        163              0.50           0.36         0.00   \n",
       "9        BLD        122              0.50           0.33         0.17   \n",
       "10        TS        225              0.50           0.36         0.18   \n",
       "\n",
       "    ratio_$$_won  ratio_$$$_won  ratio_Eco  ratio_$  ratio_$$  ratio_$$$  \n",
       "0           0.53           0.56      0.135    0.030     0.241      0.594  \n",
       "1           0.60           0.57      0.142    0.061     0.245      0.552  \n",
       "2           0.45           0.53      0.164    0.041     0.238      0.557  \n",
       "3           0.53           0.62      0.152    0.052     0.246      0.550  \n",
       "4           0.46           0.49      0.161    0.034     0.262      0.544  \n",
       "5           0.47           0.53      0.140    0.044     0.316      0.500  \n",
       "6           0.44           0.49      0.151    0.058     0.314      0.477  \n",
       "7           0.43           0.50      0.146    0.057     0.264      0.533  \n",
       "8           0.54           0.61      0.135    0.037     0.215      0.613  \n",
       "9           0.39           0.52      0.123    0.049     0.230      0.598  \n",
       "10          0.66           0.59      0.147    0.049     0.222      0.582  "
      ]
     },
     "execution_count": 64,
     "metadata": {},
     "output_type": "execute_result"
    }
   ],
   "source": [
    "r"
   ]
  }
 ],
 "metadata": {
  "kernelspec": {
   "display_name": "comp0197-pt",
   "language": "python",
   "name": "python3"
  },
  "language_info": {
   "codemirror_mode": {
    "name": "ipython",
    "version": 3
   },
   "file_extension": ".py",
   "mimetype": "text/x-python",
   "name": "python",
   "nbconvert_exporter": "python",
   "pygments_lexer": "ipython3",
   "version": "3.10.8"
  }
 },
 "nbformat": 4,
 "nbformat_minor": 2
}
