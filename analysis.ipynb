{
 "cells": [
  {
   "cell_type": "code",
   "execution_count": 1,
   "metadata": {},
   "outputs": [
    {
     "name": "stderr",
     "output_type": "stream",
     "text": [
      "2024-05-08 18:25:01.732 WARNING streamlit.runtime.caching.cache_data_api: No runtime found, using MemoryCacheStorageManager\n",
      "2024-05-08 18:25:01.735 WARNING streamlit.runtime.caching.cache_data_api: No runtime found, using MemoryCacheStorageManager\n",
      "2024-05-08 18:25:01.736 WARNING streamlit.runtime.caching.cache_data_api: No runtime found, using MemoryCacheStorageManager\n",
      "2024-05-08 18:25:01.737 WARNING streamlit.runtime.caching.cache_data_api: No runtime found, using MemoryCacheStorageManager\n",
      "2024-05-08 18:25:01.738 WARNING streamlit.runtime.caching.cache_data_api: No runtime found, using MemoryCacheStorageManager\n",
      "2024-05-08 18:25:01.740 WARNING streamlit.runtime.caching.cache_data_api: No runtime found, using MemoryCacheStorageManager\n",
      "2024-05-08 18:25:01.741 WARNING streamlit.runtime.caching.cache_data_api: No runtime found, using MemoryCacheStorageManager\n"
     ]
    }
   ],
   "source": [
    "import pandas as pd\n",
    "import numpy as np\n",
    "from utils import *\n",
    "from data_processing import *\n",
    "\n",
    "# load general data\n",
    "general_pacific = pd.read_csv('champions-tour-2024-pacific-kickoff_data\\general_data_champions-tour-2024-pacific-kickoff.csv')\n",
    "general_americas = pd.read_csv('champions-tour-2024-americas-kickoff_data\\general_data_champions-tour-2024-americas-kickoff.csv')\n",
    "general_emea = pd.read_csv('champions-tour-2024-emea-kickoff_data\\general_data_champions-tour-2024-emea-kickoff.csv')\n",
    "\n",
    "# performance data\n",
    "performance_pacific = pd.read_csv('champions-tour-2024-pacific-kickoff_data\\performance_data_champions-tour-2024-pacific-kickoff.csv')\n",
    "performance_americas = pd.read_csv('champions-tour-2024-americas-kickoff_data\\performance_data_champions-tour-2024-americas-kickoff.csv')\n",
    "performance_emea = pd.read_csv('champions-tour-2024-emea-kickoff_data\\performance_data_champions-tour-2024-emea-kickoff.csv')\n",
    "\n",
    "# economic data\n",
    "economy_pacific = pd.read_csv('champions-tour-2024-pacific-kickoff_data\\economy_data_champions-tour-2024-pacific-kickoff.csv')\n",
    "economy_americas = pd.read_csv('champions-tour-2024-americas-kickoff_data\\economy_data_champions-tour-2024-americas-kickoff.csv')\n",
    "economy_emea = pd.read_csv('champions-tour-2024-emea-kickoff_data\\economy_data_champions-tour-2024-emea-kickoff.csv')\n",
    "\n",
    "# picks and bans\n",
    "pick_ban_pacific = pd.read_csv('champions-tour-2024-pacific-kickoff_data\\pick_ban_data_champions-tour-2024-pacific-kickoff.csv')\n",
    "pick_ban_americas = pd.read_csv('champions-tour-2024-americas-kickoff_data\\pick_ban_data_champions-tour-2024-americas-kickoff.csv')\n",
    "pick_ban_emea = pd.read_csv('champions-tour-2024-emea-kickoff_data\\pick_ban_data_champions-tour-2024-emea-kickoff.csv')"
   ]
  },
  {
   "cell_type": "markdown",
   "metadata": {},
   "source": [
    "<h1>Individual Data</h1>\n",
    "<h2>General Data</h2>"
   ]
  },
  {
   "cell_type": "code",
   "execution_count": 2,
   "metadata": {},
   "outputs": [],
   "source": [
    "df_pacific_general = general_feature_creation_for_teams(general_pacific)\n",
    "df_americas_general = general_feature_creation_for_teams(general_americas)\n",
    "df_emea_general = general_feature_creation_for_teams(general_emea)"
   ]
  },
  {
   "cell_type": "code",
   "execution_count": 3,
   "metadata": {},
   "outputs": [],
   "source": [
    "df_general = create_dataframe(df_emea_general,df_americas_general,df_pacific_general)\n",
    "# Assuming the last column of the data is the target variable (e.g., region labels)\n",
    "X_general, y_general = df_general.iloc[:, :-1], df_general.index.get_level_values(0)   # Features & Target variable (region labels)"
   ]
  },
  {
   "cell_type": "markdown",
   "metadata": {},
   "source": [
    "<h3>Feature Selection & Visualization General Data</h3>"
   ]
  },
  {
   "cell_type": "code",
   "execution_count": 4,
   "metadata": {},
   "outputs": [
    {
     "name": "stdout",
     "output_type": "stream",
     "text": [
      "Selected Features:\n",
      "Index(['avrg_acs_per_team_atk', 'std_d_per_team', 'std_d_per_team_atk',\n",
      "       'std_d_per_team_dfs', 'std_adr_per_team', 'std_hs%_per_team',\n",
      "       'std_fk_per_team', 'avrg_fk_per_team_atk', 'std_fk_per_team_atk',\n",
      "       'avrg_fk_per_team_dfs'],\n",
      "      dtype='object')\n"
     ]
    }
   ],
   "source": [
    "k_best_feature_general = selectKbest(X_general, y_general)"
   ]
  },
  {
   "cell_type": "code",
   "execution_count": 5,
   "metadata": {},
   "outputs": [
    {
     "name": "stdout",
     "output_type": "stream",
     "text": [
      "Plots saved as PNG files.\n"
     ]
    }
   ],
   "source": [
    "visualize_mean_feature_for_each_region(df_general,k_best_feature_general)"
   ]
  },
  {
   "cell_type": "markdown",
   "metadata": {},
   "source": [
    "<h2>Performance data</h2>"
   ]
  },
  {
   "cell_type": "code",
   "execution_count": 6,
   "metadata": {},
   "outputs": [],
   "source": [
    "performance_feature_emea = performance_feature_creation_for_teams(performance_emea, economy_emea)\n",
    "performance_feature_americas = performance_feature_creation_for_teams(performance_americas, economy_americas)\n",
    "performance_feature_pacific = performance_feature_creation_for_teams(performance_pacific, economy_pacific)"
   ]
  },
  {
   "cell_type": "code",
   "execution_count": 8,
   "metadata": {},
   "outputs": [],
   "source": [
    "df_performance = create_dataframe(performance_feature_emea,performance_feature_americas,performance_feature_pacific)\n",
    "X_performance, y_performance = df_performance.iloc[:, :-1], df_performance.index.get_level_values(0)   # Features & Target variable (region labels)"
   ]
  },
  {
   "cell_type": "code",
   "execution_count": 13,
   "metadata": {},
   "outputs": [
    {
     "name": "stdout",
     "output_type": "stream",
     "text": [
      "Selected Features:\n",
      "Index(['2k_mean', '2k_std', '3k_std', '4k_mean', '5k_mean', '5k_std',\n",
      "       '1v1_std', '1v2_mean', '1v2_std', '1v3_std', '1v5_mean', '1v5_std',\n",
      "       'econ_std', 'pl_mean'],\n",
      "      dtype='object')\n",
      "Plots saved as PNG files.\n"
     ]
    }
   ],
   "source": [
    "k_best_feature_performance = selectKbest(X_performance, y_performance, k=14)\n",
    "visualize_mean_feature_for_each_region(df_performance,k_best_feature_performance)"
   ]
  },
  {
   "cell_type": "code",
   "execution_count": 64,
   "metadata": {},
   "outputs": [
    {
     "name": "stdout",
     "output_type": "stream",
     "text": [
      "Selected Features:\n",
      "Index(['econ_mean', 'econ_std', 'pl_mean', 'pl_std', 'de_mean'], dtype='object')\n",
      "Optimal number of features: 5\n"
     ]
    }
   ],
   "source": [
    "from sklearn.feature_selection import RFECV\n",
    "from sklearn.model_selection import StratifiedKFold\n",
    "from sklearn.svm import SVC\n",
    "\n",
    "df_concatenated = pd.concat([performance_feature_emea, performance_feature_americas, performance_feature_pacific], keys=['EMEA', 'Americas', 'Pacific'])\n",
    "\n",
    "# Assuming the last column of your data is the target variable (e.g., region labels)\n",
    "X = df_concatenated.iloc[:, :-1]  # Features\n",
    "y = df_concatenated.index.get_level_values(0)  # Target variable (region labels)\n",
    "# Create a Support Vector Classifier as the estimator\n",
    "estimator = SVC(kernel=\"linear\")\n",
    "\n",
    "# Create RFECV object\n",
    "rfecv = RFECV(estimator=estimator, cv=StratifiedKFold(5), scoring='accuracy')  # 5-fold cross-validation\n",
    "\n",
    "# Fit RFECV to the data\n",
    "rfecv.fit(X, y)\n",
    "\n",
    "# Get selected features\n",
    "selected_indices = rfecv.support_\n",
    "\n",
    "# Get names of selected features\n",
    "selected_features = X.columns[selected_indices]\n",
    "\n",
    "# Print selected features\n",
    "print(\"Selected Features:\")\n",
    "print(selected_features)\n",
    "\n",
    "# Print optimal number of features\n",
    "print(\"Optimal number of features: {}\".format(rfecv.n_features_))"
   ]
  }
 ],
 "metadata": {
  "language_info": {
   "name": "python"
  }
 },
 "nbformat": 4,
 "nbformat_minor": 2
}
